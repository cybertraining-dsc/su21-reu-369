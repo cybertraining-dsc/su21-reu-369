{
 "metadata": {
  "language_info": {
   "codemirror_mode": {
    "name": "ipython",
    "version": 3
   },
   "file_extension": ".py",
   "mimetype": "text/x-python",
   "name": "python",
   "nbconvert_exporter": "python",
   "pygments_lexer": "ipython3",
   "version": 3
  },
  "orig_nbformat": 4,
  "kernelspec": {
   "name": "python3",
   "language": "python",
   "display_name": "Python 3"
  }
 },
 "nbformat": 4,
 "nbformat_minor": 2,
 "cells": [
  {
   "cell_type": "code",
   "execution_count": null,
   "metadata": {
    "pycharm": {
     "is_executing": true
    }
   },
   "outputs": [
    {
     "name": "stdout",
     "output_type": "stream",
     "text": [
      "Hello World\n",
      "xyz\n",
      "\n",
      "+------------------+--------------------------------------------------------------------------------------------------+\n",
      "| Attribute        | Value                                                                                            |\n",
      "|------------------+--------------------------------------------------------------------------------------------------|\n",
      "| cpu_count        | 8                                                                                                |\n",
      "| mem.active       | 5.3 GiB                                                                                          |\n",
      "| mem.available    | 5.3 GiB                                                                                          |\n",
      "| mem.free         | 29.9 MiB                                                                                         |\n",
      "| mem.inactive     | 5.3 GiB                                                                                          |\n",
      "| mem.percent      | 66.8 %                                                                                           |\n",
      "| mem.total        | 16.0 GiB                                                                                         |\n",
      "| mem.used         | 8.0 GiB                                                                                          |\n",
      "| mem.wired        | 2.7 GiB                                                                                          |\n",
      "| platform.version | 10.16                                                                                            |\n",
      "| python           | 3.9.5 (v3.9.5:0a7dcbdb13, May  3 2021, 13:17:02)                                                 |\n",
      "|                  | [Clang 6.0 (clang-600.0.57)]                                                                     |\n",
      "| python.pip       | 21.1.2                                                                                           |\n",
      "| python.version   | 3.9.5                                                                                            |\n",
      "| sys.platform     | darwin                                                                                           |\n",
      "| uname.machine    | x86_64                                                                                           |\n",
      "| uname.node       | gamera                                                                                           |\n",
      "| uname.processor  | i386                                                                                             |\n",
      "| uname.release    | 20.5.0                                                                                           |\n",
      "| uname.system     | Darwin                                                                                           |\n",
      "| uname.version    | Darwin Kernel Version 20.5.0: Sat May  8 05:10:33 PDT 2021; root:xnu-7195.121.3~9/RELEASE_X86_64 |\n",
      "| user             | grey                                                                                             |\n",
      "+------------------+--------------------------------------------------------------------------------------------------+\n",
      "\n",
      "+-------------+----------+--------+-------+---------------------+-------+--------+--------+--------+-----------+\n",
      "| Name        | Status   |   Time |   Sum | Start               | tag   | Node   | User   | OS     |   Version |\n",
      "|-------------+----------+--------+-------+---------------------+-------+--------+--------+--------+-----------|\n",
      "| Hello World | ok       |  0.202 | 0.827 | 2021-06-19 02:16:15 |       | gamera | grey   | Darwin |     10.16 |\n",
      "| xyz         | ok       |  0.103 | 0.411 | 2021-06-19 02:16:15 |       | gamera | grey   | Darwin |     10.16 |\n",
      "+-------------+----------+--------+-------+---------------------+-------+--------+--------+--------+-----------+\n",
      "\n",
      "# csv,timer,status,time,sum,start,tag,uname.node,user,uname.system,platform.version\n",
      "# csv,Hello World,ok,0.202,0.827,2021-06-19 02:16:15,,gamera,grey,Darwin,10.16\n",
      "# csv,xyz,ok,0.103,0.411,2021-06-19 02:16:15,,gamera,grey,Darwin,10.16\n",
      "\n",
      "{'value': 2, 'name': 'John', 'name1': 'Carlos', 'name2': 'John', 'name3': 'John', 'name4': 'John', 'name5': 'John'}\n",
      "{'name': 'John',\n",
      " 'name1': 'Carlos',\n",
      " 'name2': 'John',\n",
      " 'name3': 'John',\n",
      " 'name4': 'John',\n",
      " 'name5': 'John',\n",
      " 'value': 2}\n"
     ]
    }
   ],
   "source": [
    "import time\n",
    "from pprint import pprint\n",
    "\n",
    "from work import work\n",
    "\n",
    "from cloudmesh.common.StopWatch import StopWatch\n",
    "from cloudmesh.common.debug import VERBOSE\n",
    "\n",
    "a = {\"value\": 2, \"name\": \"John\", \"name1\": \"Carlos\", \"name2\": \"John\", \"name3\": \"John\", \"name4\": \"John\", \"name5\": \"John\"}\n",
    "\n",
    "StopWatch.start(\"Hello World\")\n",
    "\n",
    "print(\"Hello World\")\n",
    "time.sleep(0.2)\n",
    "StopWatch.stop(\"Hello World\")\n",
    "\n",
    "StopWatch.start(\"xyz\")\n",
    "time.sleep(0.1)\n",
    "print(\"xyz\")\n",
    "\n",
    "StopWatch.stop(\"xyz\")\n",
    "\n",
    "StopWatch.benchmark()\n",
    "print(a)\n",
    "pprint(a)\n",
    "# VERBOSE(a)\n",
    "\n",
    "work(\"hallo\")"
   ]
  }
 ]
}